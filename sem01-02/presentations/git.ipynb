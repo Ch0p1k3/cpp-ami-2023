{
 "cells": [
  {
   "cell_type": "markdown",
   "metadata": {},
   "source": [
    "# Git"
   ]
  },
  {
   "cell_type": "markdown",
   "metadata": {},
   "source": [
    "Кладезь знаний про Git: https://git-scm.com/book/en/v2\n",
    "\n",
    "Git тренажер: https://gitexercises.fracz.com/. Я бы советовал пройти следующие упражнения:\n",
    "- master\n",
    "- commit-one-file\n",
    "- commit-one-file-staged\n",
    "- ignore-them\n",
    "- chase-branch\n",
    "- merge-conflict\n",
    "- save-your-work\n",
    "- remove-ignored\n",
    "- case-sensitive-filename\n",
    "- fix-typo\n",
    "- executable\n",
    "\n"
   ]
  },
  {
   "cell_type": "markdown",
   "metadata": {},
   "source": [
    "Git - распределённая система контроля версий, разработанная с прицелом на скорость и эффективность взаимодействия. Немного про историю Git: [ссылка](https://git-scm.com/book/ru/v2/%D0%92%D0%B2%D0%B5%D0%B4%D0%B5%D0%BD%D0%B8%D0%B5-%D0%9A%D1%80%D0%B0%D1%82%D0%BA%D0%B0%D1%8F-%D0%B8%D1%81%D1%82%D0%BE%D1%80%D0%B8%D1%8F-Git).\n",
    "\n",
    "![](images/dist_git.webp)"
   ]
  },
  {
   "cell_type": "markdown",
   "metadata": {},
   "source": [
    "У Git есть три основных состояния, в которых могут находиться ваши файлы: modified, staged и committed:\n",
    "\n",
    "![](images/git_states.jpg)"
   ]
  },
  {
   "cell_type": "markdown",
   "metadata": {},
   "source": [
    "![](images/git.png)"
   ]
  },
  {
   "cell_type": "code",
   "execution_count": 2,
   "metadata": {
    "vscode": {
     "languageId": "shellscript"
    }
   },
   "outputs": [],
   "source": [
    "!git config --global user.name \"Ch0p1k3\"\n",
    "!git config --global user.email \"ch00p.228@gmail.com\""
   ]
  },
  {
   "cell_type": "markdown",
   "metadata": {
    "vscode": {
     "languageId": "shellscript"
    }
   },
   "source": [
    "# Создаем новый репозиторий"
   ]
  },
  {
   "cell_type": "code",
   "execution_count": 4,
   "metadata": {
    "vscode": {
     "languageId": "shellscript"
    }
   },
   "outputs": [
    {
     "name": "stdout",
     "output_type": "stream",
     "text": [
      "mkdir: /Users/chopik/test_repo: File exists\n",
      "Initialized empty Git repository in /Users/chopik/test_repo/.git/\n"
     ]
    }
   ],
   "source": [
    "!mkdir ~/test_repo\n",
    "!git init ~/test_repo"
   ]
  },
  {
   "cell_type": "code",
   "execution_count": 5,
   "metadata": {
    "vscode": {
     "languageId": "shellscript"
    }
   },
   "outputs": [
    {
     "name": "stdout",
     "output_type": "stream",
     "text": [
      "total 0\n",
      "0 drwxr-xr-x   3 chopik  LD\\Domain Users    96 Jan 14 17:10 \u001b[34m.\u001b[m\u001b[m\n",
      "0 drwxr-x---+ 50 chopik  LD\\Domain Users  1600 Jan 14 17:10 \u001b[34m..\u001b[m\u001b[m\n",
      "0 drwxr-xr-x   9 chopik  LD\\Domain Users   288 Jan 14 17:10 \u001b[34m.git\u001b[m\u001b[m\n"
     ]
    }
   ],
   "source": [
    "!ls -lsa ~/test_repo"
   ]
  },
  {
   "cell_type": "code",
   "execution_count": 6,
   "metadata": {
    "vscode": {
     "languageId": "shellscript"
    }
   },
   "outputs": [
    {
     "name": "stdout",
     "output_type": "stream",
     "text": [
      "total 24\n",
      "0 drwxr-xr-x   9 chopik  LD\\Domain Users  288 Jan 14 17:10 \u001b[34m.\u001b[m\u001b[m\n",
      "0 drwxr-xr-x   3 chopik  LD\\Domain Users   96 Jan 14 17:10 \u001b[34m..\u001b[m\u001b[m\n",
      "8 -rw-r--r--   1 chopik  LD\\Domain Users   21 Jan 14 17:10 HEAD\n",
      "8 -rw-r--r--   1 chopik  LD\\Domain Users  137 Jan 14 17:10 config\n",
      "8 -rw-r--r--   1 chopik  LD\\Domain Users   73 Jan 14 17:10 description\n",
      "0 drwxr-xr-x  15 chopik  LD\\Domain Users  480 Jan 14 17:10 \u001b[34mhooks\u001b[m\u001b[m\n",
      "0 drwxr-xr-x   3 chopik  LD\\Domain Users   96 Jan 14 17:10 \u001b[34minfo\u001b[m\u001b[m\n",
      "0 drwxr-xr-x   4 chopik  LD\\Domain Users  128 Jan 14 17:10 \u001b[34mobjects\u001b[m\u001b[m\n",
      "0 drwxr-xr-x   4 chopik  LD\\Domain Users  128 Jan 14 17:10 \u001b[34mrefs\u001b[m\u001b[m\n"
     ]
    }
   ],
   "source": [
    "!ls -lsa ~/test_repo/.git"
   ]
  },
  {
   "cell_type": "markdown",
   "metadata": {},
   "source": [
    "# Добавление ключей для взаимодействия с удаленным репозиторием"
   ]
  },
  {
   "cell_type": "markdown",
   "metadata": {},
   "source": [
    "```bash\n",
    "ssh-keygen -t rsa -b 2048\n",
    "```\n",
    "\n",
    "Создает ключ типа [RSA](https://ru.wikipedia.org/wiki/RSA) размером 2048 байт."
   ]
  },
  {
   "cell_type": "markdown",
   "metadata": {},
   "source": [
    "# Клонируем существующий репозиторий"
   ]
  },
  {
   "cell_type": "markdown",
   "metadata": {},
   "source": [
    "![](images/clone_repo.png)"
   ]
  },
  {
   "cell_type": "markdown",
   "metadata": {},
   "source": []
  }
 ],
 "metadata": {
  "kernelspec": {
   "display_name": "Python 3",
   "language": "python",
   "name": "python3"
  },
  "language_info": {
   "codemirror_mode": {
    "name": "ipython",
    "version": 3
   },
   "file_extension": ".py",
   "mimetype": "text/x-python",
   "name": "python",
   "nbconvert_exporter": "python",
   "pygments_lexer": "ipython3",
   "version": "3.9.6"
  }
 },
 "nbformat": 4,
 "nbformat_minor": 2
}
