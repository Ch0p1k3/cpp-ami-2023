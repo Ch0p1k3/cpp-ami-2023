{
 "cells": [
  {
   "cell_type": "markdown",
   "metadata": {},
   "source": [
    "# Git"
   ]
  },
  {
   "cell_type": "markdown",
   "metadata": {},
   "source": [
    "Кладезь знаний про Git: https://git-scm.com/book/en/v2\n",
    "\n",
    "Git тренажер: https://gitexercises.fracz.com/. Я бы советовал пройти следующие упражнения:\n",
    "- master\n",
    "- commit-one-file\n",
    "- commit-one-file-staged\n",
    "- ignore-them\n",
    "- chase-branch\n",
    "- merge-conflict\n",
    "- save-your-work\n",
    "- remove-ignored\n",
    "- case-sensitive-filename\n",
    "- fix-typo\n",
    "- executable\n",
    "\n"
   ]
  },
  {
   "cell_type": "markdown",
   "metadata": {},
   "source": [
    "Git - распределённая система контроля версий, разработанная с прицелом на скорость и эффективность взаимодействия. Немного про историю Git: [ссылка](https://git-scm.com/book/ru/v2/%D0%92%D0%B2%D0%B5%D0%B4%D0%B5%D0%BD%D0%B8%D0%B5-%D0%9A%D1%80%D0%B0%D1%82%D0%BA%D0%B0%D1%8F-%D0%B8%D1%81%D1%82%D0%BE%D1%80%D0%B8%D1%8F-Git).\n",
    "\n",
    "![](images/dist_git.webp)"
   ]
  },
  {
   "cell_type": "markdown",
   "metadata": {},
   "source": [
    "У Git есть три основных состояния, в которых могут находиться ваши файлы: modified, staged и committed:\n",
    "\n",
    "![](images/git_states.jpg)\n",
    "![](images/git.png)"
   ]
  },
  {
   "cell_type": "code",
   "execution_count": 2,
   "metadata": {
    "vscode": {
     "languageId": "shellscript"
    }
   },
   "outputs": [],
   "source": [
    "!git config --global user.name \"Ch0p1k3\"\n",
    "!git config --global user.email \"ch00p.228@gmail.com\""
   ]
  },
  {
   "cell_type": "code",
   "execution_count": 3,
   "metadata": {
    "vscode": {
     "languageId": "shellscript"
    }
   },
   "outputs": [
    {
     "name": "stdout",
     "output_type": "stream",
     "text": [
      "Hello\n"
     ]
    }
   ],
   "source": [
    "!echo \"Hello\""
   ]
  },
  {
   "cell_type": "code",
   "execution_count": null,
   "metadata": {
    "vscode": {
     "languageId": "shellscript"
    }
   },
   "outputs": [],
   "source": []
  }
 ],
 "metadata": {
  "kernelspec": {
   "display_name": "Python 3",
   "language": "python",
   "name": "python3"
  },
  "language_info": {
   "codemirror_mode": {
    "name": "ipython",
    "version": 3
   },
   "file_extension": ".py",
   "mimetype": "text/x-python",
   "name": "python",
   "nbconvert_exporter": "python",
   "pygments_lexer": "ipython3",
   "version": "3.9.6"
  }
 },
 "nbformat": 4,
 "nbformat_minor": 2
}
