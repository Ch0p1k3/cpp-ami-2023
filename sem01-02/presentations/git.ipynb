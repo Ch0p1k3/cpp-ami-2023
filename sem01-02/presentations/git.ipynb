{
 "cells": [
  {
   "cell_type": "markdown",
   "metadata": {},
   "source": [
    "# Git"
   ]
  },
  {
   "cell_type": "markdown",
   "metadata": {},
   "source": [
    "Кладезь знаний про Git: https://git-scm.com/book/en/v2\n",
    "\n",
    "Git тренажер: https://gitexercises.fracz.com/. Я бы советовал пройти следующие упражнения:\n",
    "- master\n",
    "- commit-one-file\n",
    "- commit-one-file-staged\n",
    "- ignore-them\n",
    "- chase-branch\n",
    "- merge-conflict\n",
    "- save-your-work\n",
    "- remove-ignored\n",
    "- case-sensitive-filename\n",
    "- fix-typo\n",
    "- executable\n",
    "\n"
   ]
  },
  {
   "cell_type": "markdown",
   "metadata": {},
   "source": [
    "Git - распределённая система контроля версий, разработанная с прицелом на скорость и эффективность взаимодействия. Немного про историю Git: [ссылка](https://git-scm.com/book/ru/v2/%D0%92%D0%B2%D0%B5%D0%B4%D0%B5%D0%BD%D0%B8%D0%B5-%D0%9A%D1%80%D0%B0%D1%82%D0%BA%D0%B0%D1%8F-%D0%B8%D1%81%D1%82%D0%BE%D1%80%D0%B8%D1%8F-Git).\n",
    "\n",
    "![](images/dist_git.webp)"
   ]
  },
  {
   "cell_type": "markdown",
   "metadata": {},
   "source": [
    "У Git есть три основных состояния, в которых могут находиться ваши файлы: modified, staged и committed:\n",
    "\n",
    "![](images/git_states.jpg)"
   ]
  },
  {
   "cell_type": "markdown",
   "metadata": {},
   "source": [
    "![](images/git.png)"
   ]
  },
  {
   "cell_type": "markdown",
   "metadata": {},
   "source": [
    "# Где скачать\n",
    "- [Windows](https://git-scm.com/download/win/)\n",
    "- [Linux](https://git-scm.com/download/linux)\n",
    "- [MacOS](https://git-scm.com/download/mac)"
   ]
  },
  {
   "cell_type": "markdown",
   "metadata": {},
   "source": [
    "# Указываем имя и email"
   ]
  },
  {
   "cell_type": "code",
   "execution_count": 2,
   "metadata": {
    "vscode": {
     "languageId": "shellscript"
    }
   },
   "outputs": [],
   "source": [
    "!git config --global user.name \"Ch0p1k3\"\n",
    "!git config --global user.email \"ch00p.228@gmail.com\""
   ]
  },
  {
   "cell_type": "markdown",
   "metadata": {
    "vscode": {
     "languageId": "shellscript"
    }
   },
   "source": [
    "# Создаем новый репозиторий"
   ]
  },
  {
   "cell_type": "code",
   "execution_count": 4,
   "metadata": {
    "vscode": {
     "languageId": "shellscript"
    }
   },
   "outputs": [
    {
     "name": "stdout",
     "output_type": "stream",
     "text": [
      "mkdir: /Users/chopik/test_repo: File exists\n",
      "Initialized empty Git repository in /Users/chopik/test_repo/.git/\n"
     ]
    }
   ],
   "source": [
    "!mkdir ~/test_repo\n",
    "!git init ~/test_repo"
   ]
  },
  {
   "cell_type": "markdown",
   "metadata": {},
   "source": [
    "`ls` - посмотреть файлы в указанной директории (по-умолчанию текущая)"
   ]
  },
  {
   "cell_type": "code",
   "execution_count": 5,
   "metadata": {
    "vscode": {
     "languageId": "shellscript"
    }
   },
   "outputs": [
    {
     "name": "stdout",
     "output_type": "stream",
     "text": [
      "total 0\n",
      "0 drwxr-xr-x   3 chopik  LD\\Domain Users    96 Jan 14 17:10 \u001b[34m.\u001b[m\u001b[m\n",
      "0 drwxr-x---+ 50 chopik  LD\\Domain Users  1600 Jan 14 17:10 \u001b[34m..\u001b[m\u001b[m\n",
      "0 drwxr-xr-x   9 chopik  LD\\Domain Users   288 Jan 14 17:10 \u001b[34m.git\u001b[m\u001b[m\n"
     ]
    }
   ],
   "source": [
    "!ls -lsa ~/test_repo"
   ]
  },
  {
   "cell_type": "code",
   "execution_count": 6,
   "metadata": {
    "vscode": {
     "languageId": "shellscript"
    }
   },
   "outputs": [
    {
     "name": "stdout",
     "output_type": "stream",
     "text": [
      "total 24\n",
      "0 drwxr-xr-x   9 chopik  LD\\Domain Users  288 Jan 14 17:10 \u001b[34m.\u001b[m\u001b[m\n",
      "0 drwxr-xr-x   3 chopik  LD\\Domain Users   96 Jan 14 17:10 \u001b[34m..\u001b[m\u001b[m\n",
      "8 -rw-r--r--   1 chopik  LD\\Domain Users   21 Jan 14 17:10 HEAD\n",
      "8 -rw-r--r--   1 chopik  LD\\Domain Users  137 Jan 14 17:10 config\n",
      "8 -rw-r--r--   1 chopik  LD\\Domain Users   73 Jan 14 17:10 description\n",
      "0 drwxr-xr-x  15 chopik  LD\\Domain Users  480 Jan 14 17:10 \u001b[34mhooks\u001b[m\u001b[m\n",
      "0 drwxr-xr-x   3 chopik  LD\\Domain Users   96 Jan 14 17:10 \u001b[34minfo\u001b[m\u001b[m\n",
      "0 drwxr-xr-x   4 chopik  LD\\Domain Users  128 Jan 14 17:10 \u001b[34mobjects\u001b[m\u001b[m\n",
      "0 drwxr-xr-x   4 chopik  LD\\Domain Users  128 Jan 14 17:10 \u001b[34mrefs\u001b[m\u001b[m\n"
     ]
    }
   ],
   "source": [
    "!ls -lsa ~/test_repo/.git"
   ]
  },
  {
   "cell_type": "markdown",
   "metadata": {},
   "source": [
    "# Добавление ключей для взаимодействия с удаленным репозиторием"
   ]
  },
  {
   "cell_type": "markdown",
   "metadata": {},
   "source": [
    "Есть инструкция в [SETUP.md](https://gitlab.com/BigRedEye1/hse-base-cxx-2024/-/blob/main/SETUP.md?ref_type=heads#%D1%80%D0%B5%D0%B3%D0%B8%D1%81%D1%82%D1%80%D0%B0%D1%86%D0%B8%D1%8F-%D0%B2-%D1%81%D0%B8%D1%81%D1%82%D0%B5%D0%BC%D0%B5)"
   ]
  },
  {
   "cell_type": "markdown",
   "metadata": {},
   "source": [
    "Создаем ключ типа [RSA](https://ru.wikipedia.org/wiki/RSA) размером 2048 байт:\n",
    "```bash\n",
    "ssh-keygen -t rsa -b 2048\n",
    "```\n",
    "Выбираем путь:\n",
    "- Если создаете впервые, то можете просто нажать `enter`\n",
    "- Если делаете это не в первый раз, то стоит поменять название ключа, но настоятельно рекомендую оставить таким же путь, который по-умолчанию: обычно это `~/.ssh`. На все остальное можете просто нажать `enter`"
   ]
  },
  {
   "cell_type": "code",
   "execution_count": 7,
   "metadata": {
    "vscode": {
     "languageId": "shellscript"
    }
   },
   "outputs": [
    {
     "name": "stdout",
     "output_type": "stream",
     "text": [
      "PTY allocation request failed on channel 0\n",
      "Welcome to GitLab, @chopik!\n",
      "Connection to gitlab.cpp-hse.net closed.\n"
     ]
    }
   ],
   "source": [
    "!ssh git@gitlab.cpp-hse.net"
   ]
  },
  {
   "cell_type": "markdown",
   "metadata": {},
   "source": [
    "# Клонируем существующий репозиторий"
   ]
  },
  {
   "cell_type": "markdown",
   "metadata": {},
   "source": [
    "![](images/terminology_gitlab_github_bb.png)"
   ]
  },
  {
   "cell_type": "markdown",
   "metadata": {},
   "source": [
    "![](images/clone_repo.png)"
   ]
  },
  {
   "cell_type": "code",
   "execution_count": 1,
   "metadata": {
    "vscode": {
     "languageId": "shellscript"
    }
   },
   "outputs": [
    {
     "name": "stdout",
     "output_type": "stream",
     "text": [
      "Cloning into '/Users/chopik/test_hse_base_cpp_repo'...\n",
      "remote: Enumerating objects: 222, done.\u001b[K\n",
      "remote: Counting objects: 100% (6/6), done.\u001b[K\n",
      "remote: Compressing objects: 100% (6/6), done.\u001b[K\n",
      "remote: Total 222 (delta 0), reused 5 (delta 0), pack-reused 216\u001b[K\n",
      "Receiving objects: 100% (222/222), 76.11 MiB | 6.47 MiB/s, done.\n",
      "Resolving deltas: 100% (19/19), done.\n"
     ]
    }
   ],
   "source": [
    "!git clone ssh://git@gitlab.cpp-hse.net:2224/hse-base-cxx-2024/staff-staff-Ivan-Luchsh-chopik.git ~/test_hse_base_cpp_repo"
   ]
  },
  {
   "cell_type": "code",
   "execution_count": 2,
   "metadata": {
    "vscode": {
     "languageId": "shellscript"
    }
   },
   "outputs": [
    {
     "name": "stdout",
     "output_type": "stream",
     "text": [
      "total 184\n",
      " 0 drwxr-xr-x  27 chopik  LD\\Domain Users    864 Jan 14 17:28 \u001b[34m.\u001b[m\u001b[m\n",
      " 0 drwxr-x---+ 51 chopik  LD\\Domain Users   1632 Jan 14 17:28 \u001b[34m..\u001b[m\u001b[m\n",
      " 8 -rw-r--r--   1 chopik  LD\\Domain Users    284 Jan 14 17:28 .clang-format\n",
      " 8 -rw-r--r--   1 chopik  LD\\Domain Users   1922 Jan 14 17:28 .clang-tidy\n",
      " 0 drwxr-xr-x  12 chopik  LD\\Domain Users    384 Jan 14 17:28 \u001b[34m.git\u001b[m\u001b[m\n",
      " 8 -rw-r--r--   1 chopik  LD\\Domain Users    242 Jan 14 17:28 .gitignore\n",
      " 8 -rw-r--r--   1 chopik  LD\\Domain Users    165 Jan 14 17:28 .gitlab-ci.yml\n",
      " 8 -rw-r--r--   1 chopik  LD\\Domain Users    153 Jan 14 17:28 .gitmodules\n",
      " 8 -rw-r--r--   1 chopik  LD\\Domain Users    713 Jan 14 17:28 .testenv-beta-ci.yml\n",
      " 8 -rw-r--r--   1 chopik  LD\\Domain Users    760 Jan 14 17:28 .testenv-ci.yml\n",
      " 8 -rw-r--r--   1 chopik  LD\\Domain Users   1123 Jan 14 17:28 CMakeLists.txt\n",
      " 8 -rw-r--r--   1 chopik  LD\\Domain Users     15 Jan 14 17:28 LECTURES.md\n",
      " 8 -rw-r--r--   1 chopik  LD\\Domain Users    396 Jan 14 17:28 README.md\n",
      " 8 -rw-r--r--   1 chopik  LD\\Domain Users   2801 Jan 14 17:28 SCORE.md\n",
      "16 -rw-r--r--   1 chopik  LD\\Domain Users   6036 Jan 14 17:28 SETUP.md\n",
      "32 -rw-r--r--   1 chopik  LD\\Domain Users  15757 Jan 14 17:28 STYLEGUIDE.md\n",
      " 8 -rw-r--r--   1 chopik  LD\\Domain Users    797 Jan 14 17:28 build.docker\n",
      " 0 drwxr-xr-x   5 chopik  LD\\Domain Users    160 Jan 14 17:28 \u001b[34mcmake\u001b[m\u001b[m\n",
      " 0 drwxr-xr-x   3 chopik  LD\\Domain Users     96 Jan 14 17:28 \u001b[34mcontrib\u001b[m\u001b[m\n",
      " 0 drwxr-xr-x   4 chopik  LD\\Domain Users    128 Jan 14 17:28 \u001b[34mdeadlines\u001b[m\u001b[m\n",
      " 0 drwxr-xr-x   2 chopik  LD\\Domain Users     64 Jan 14 17:28 \u001b[34mgrader\u001b[m\u001b[m\n",
      " 0 drwxr-xr-x   3 chopik  LD\\Domain Users     96 Jan 14 17:28 \u001b[34mlectures\u001b[m\u001b[m\n",
      " 0 drwxr-xr-x   2 chopik  LD\\Domain Users     64 Jan 14 17:28 \u001b[34mprivate\u001b[m\u001b[m\n",
      "24 -rwxr-xr-x   1 chopik  LD\\Domain Users   9902 Jan 14 17:28 \u001b[31mrun-clang-format.py\u001b[m\u001b[m\n",
      " 8 -rwxr-xr-x   1 chopik  LD\\Domain Users    545 Jan 14 17:28 \u001b[31mrun_linter.sh\u001b[m\u001b[m\n",
      " 0 drwxr-xr-x  22 chopik  LD\\Domain Users    704 Jan 14 17:28 \u001b[34mtasks\u001b[m\u001b[m\n",
      " 8 -rw-r--r--   1 chopik  LD\\Domain Users    212 Jan 14 17:28 testenv.docker\n"
     ]
    }
   ],
   "source": [
    "!ls -lsa ~/test_hse_base_cpp_repo"
   ]
  },
  {
   "cell_type": "code",
   "execution_count": 3,
   "metadata": {
    "vscode": {
     "languageId": "shellscript"
    }
   },
   "outputs": [],
   "source": [
    "# внутри дирректории репозитория\n",
    "!touch trash.tmp"
   ]
  },
  {
   "cell_type": "markdown",
   "metadata": {},
   "source": [
    "`git status` - показывает состояние файлов в репозитории"
   ]
  },
  {
   "cell_type": "code",
   "execution_count": 4,
   "metadata": {
    "vscode": {
     "languageId": "shellscript"
    }
   },
   "outputs": [
    {
     "name": "stdout",
     "output_type": "stream",
     "text": [
      "On branch main\n",
      "Your branch is up to date with 'origin/main'.\n",
      "\n",
      "Changes not staged for commit:\n",
      "  (use \"git add <file>...\" to update what will be committed)\n",
      "  (use \"git restore <file>...\" to discard changes in working directory)\n",
      "\t\u001b[31mmodified:   git.ipynb\u001b[m\n",
      "\t\u001b[31mmodified:   images/git_states.jpg\u001b[m\n",
      "\n",
      "Untracked files:\n",
      "  (use \"git add <file>...\" to include in what will be committed)\n",
      "\t\u001b[31mtemplate_multiplication.cpp\u001b[m\n",
      "\t\u001b[31mtrash.tmp\u001b[m\n",
      "\n",
      "no changes added to commit (use \"git add\" and/or \"git commit -a\")\n"
     ]
    }
   ],
   "source": [
    "!git status"
   ]
  },
  {
   "cell_type": "code",
   "execution_count": 5,
   "metadata": {
    "vscode": {
     "languageId": "shellscript"
    }
   },
   "outputs": [],
   "source": [
    "!git add trash.tmp"
   ]
  },
  {
   "cell_type": "code",
   "execution_count": 6,
   "metadata": {
    "vscode": {
     "languageId": "shellscript"
    }
   },
   "outputs": [
    {
     "name": "stdout",
     "output_type": "stream",
     "text": [
      "On branch main\n",
      "Your branch is up to date with 'origin/main'.\n",
      "\n",
      "Changes to be committed:\n",
      "  (use \"git restore --staged <file>...\" to unstage)\n",
      "\t\u001b[32mnew file:   trash.tmp\u001b[m\n",
      "\n",
      "Changes not staged for commit:\n",
      "  (use \"git add <file>...\" to update what will be committed)\n",
      "  (use \"git restore <file>...\" to discard changes in working directory)\n",
      "\t\u001b[31mmodified:   git.ipynb\u001b[m\n",
      "\t\u001b[31mmodified:   images/git_states.jpg\u001b[m\n",
      "\n",
      "Untracked files:\n",
      "  (use \"git add <file>...\" to include in what will be committed)\n",
      "\t\u001b[31mimages/git_states_add.jpg\u001b[m\n",
      "\t\u001b[31mimages/git_states_commit.jpg\u001b[m\n",
      "\t\u001b[31mimages/git_states_edit.jpg\u001b[m\n",
      "\t\u001b[31mimages/git_states_rm.jpg\u001b[m\n",
      "\t\u001b[31mtemplate_multiplication.cpp\u001b[m\n",
      "\n"
     ]
    }
   ],
   "source": [
    "!git status"
   ]
  },
  {
   "cell_type": "code",
   "execution_count": null,
   "metadata": {
    "vscode": {
     "languageId": "shellscript"
    }
   },
   "outputs": [],
   "source": [
    "!cat template_multiplication.cpp > ~/test_hse_base_cpp_repo/tasks/multiplication/multiplication.cpp"
   ]
  }
 ],
 "metadata": {
  "kernelspec": {
   "display_name": "Python 3",
   "language": "python",
   "name": "python3"
  },
  "language_info": {
   "codemirror_mode": {
    "name": "ipython",
    "version": 3
   },
   "file_extension": ".py",
   "mimetype": "text/x-python",
   "name": "python",
   "nbconvert_exporter": "python",
   "pygments_lexer": "ipython3",
   "version": "3.9.6"
  }
 },
 "nbformat": 4,
 "nbformat_minor": 2
}
